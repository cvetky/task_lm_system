{
 "cells": [
  {
   "cell_type": "markdown",
   "id": "together-exposure",
   "metadata": {},
   "source": [
    "# Connect to ADLS"
   ]
  },
  {
   "cell_type": "code",
   "execution_count": 1,
   "id": "apparent-crash",
   "metadata": {},
   "outputs": [],
   "source": [
    "from azure.datalake.store import core\n",
    "from azure.datalake.store import lib\n",
    "\n",
    "token = lib.auth(tenant_id=\"bb9bc891-a81c-4296-bd5d-15aedd92502c\",\n",
    "                 client_id=\"d1b5de72-67ad-49ef-ab10-b76d2ca70be7\",\n",
    "                 client_secret=\"hoCO_19xn8frF~ivX81ioD.Yr5O9Pv9A-g\",\n",
    "                 resource=\"https://datalake.azure.net/\")\n",
    "adl = core.AzureDLFileSystem(token, store_name=\"cvetky\")"
   ]
  },
  {
   "cell_type": "markdown",
   "id": "trained-dairy",
   "metadata": {},
   "source": [
    "# Common functions"
   ]
  },
  {
   "cell_type": "code",
   "execution_count": 2,
   "id": "electric-might",
   "metadata": {},
   "outputs": [],
   "source": [
    "import pandas as pd\n",
    "\n",
    "def read_json_file(filename):\n",
    "    with adl.open(filename) as f:\n",
    "        return pd.read_json(f)"
   ]
  },
  {
   "cell_type": "markdown",
   "id": "equal-testimony",
   "metadata": {},
   "source": [
    "# Load pandas from JSON files on data lake"
   ]
  },
  {
   "cell_type": "code",
   "execution_count": 3,
   "id": "measured-advance",
   "metadata": {},
   "outputs": [],
   "source": [
    "adl_statistics_directory = \"/task_lm_system_data/\"\n",
    "files = sorted(adl.listdir(adl_statistics_directory), reverse=True)\n",
    "\n",
    "frames = []\n",
    "for filename in files:\n",
    "    frames.append(read_json_file(filename))\n",
    "\n",
    "df = pd.concat(frames)"
   ]
  },
  {
   "cell_type": "markdown",
   "id": "adjusted-accordance",
   "metadata": {},
   "source": [
    "# Calculate execution status"
   ]
  },
  {
   "cell_type": "code",
   "execution_count": 4,
   "id": "engaging-science",
   "metadata": {},
   "outputs": [],
   "source": [
    "import numpy as np\n",
    "\n",
    "zero_exit_code = df[\"exit_code\"] == 0\n",
    "not_killed = df[\"signal\"] != \"KILL\"\n",
    "df[\"status\"] = np.where(zero_exit_code & not_killed, \"SUCCESS\", \"FAILED\")"
   ]
  },
  {
   "cell_type": "markdown",
   "id": "abandoned-omaha",
   "metadata": {},
   "source": [
    "# Cleanse data"
   ]
  },
  {
   "cell_type": "code",
   "execution_count": 5,
   "id": "following-thumbnail",
   "metadata": {},
   "outputs": [],
   "source": [
    "df[\"last_3_output_lines\"] = df[\"last_3_output_lines\"].str.replace(\"(\\s)+\", \" \", regex=True)\n",
    "df[\"last_3_output_lines\"] = df[\"last_3_output_lines\"].str[-256:] # due to SAC limitation"
   ]
  },
  {
   "cell_type": "markdown",
   "id": "downtown-allowance",
   "metadata": {},
   "source": [
    "# Upload statistics file"
   ]
  },
  {
   "cell_type": "code",
   "execution_count": 6,
   "id": "precise-strategy",
   "metadata": {},
   "outputs": [
    {
     "data": {
      "text/plain": [
       "{'spreadsheetId': '1pfA38C3QaxW-OV70JAypA5zkhNzPgzn9Kgowi01goyA',\n",
       " 'updatedRange': 'statistics!A1:O73',\n",
       " 'updatedRows': 73,\n",
       " 'updatedColumns': 15,\n",
       " 'updatedCells': 1095}"
      ]
     },
     "execution_count": 6,
     "metadata": {},
     "output_type": "execute_result"
    }
   ],
   "source": [
    "import gspread\n",
    "\n",
    "gc = gspread.service_account(filename='./task_lm_credentions.json')\n",
    "\n",
    "statistics_spreadsheet = gc.open_by_key('1pfA38C3QaxW-OV70JAypA5zkhNzPgzn9Kgowi01goyA')\n",
    "statistics_worksheet = statistics_spreadsheet.worksheet('statistics') \n",
    "statistics_worksheet.update([df.columns.values.tolist()] + df.values.tolist())"
   ]
  }
 ],
 "metadata": {
  "kernelspec": {
   "display_name": "venv_36",
   "language": "python",
   "name": "venv_36"
  },
  "language_info": {
   "codemirror_mode": {
    "name": "ipython",
    "version": 3
   },
   "file_extension": ".py",
   "mimetype": "text/x-python",
   "name": "python",
   "nbconvert_exporter": "python",
   "pygments_lexer": "ipython3",
   "version": "3.6.5"
  }
 },
 "nbformat": 4,
 "nbformat_minor": 5
}
